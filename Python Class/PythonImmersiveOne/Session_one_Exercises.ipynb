{
  "cells": [
    {
      "metadata": {},
      "cell_type": "markdown",
      "source": "Exercises."
    },
    {
      "metadata": {},
      "cell_type": "markdown",
      "source": "Exercise 1."
    },
    {
      "metadata": {},
      "cell_type": "markdown",
      "source": "Write a function that takes a list of numbers and iterates through each number on a list and counts all numbers that are equal to 1.\n```\na_list = [1,3,55,1,9,4,56,2,1,8]\n```\n"
    },
    {
      "metadata": {},
      "cell_type": "markdown",
      "source": "Exercise 2. "
    },
    {
      "metadata": {},
      "cell_type": "markdown",
      "source": "Write a Python program that accepts a string and calculate the number of digits and letters. use: help() to learn how to use isalpha() and isdigit()"
    },
    {
      "metadata": {},
      "cell_type": "markdown",
      "source": "Exercise 3."
    },
    {
      "metadata": {},
      "cell_type": "markdown",
      "source": "Lets try to print these words backwards:\n```\npython\nstar\ngreen\nyellow\n```\n"
    },
    {
      "metadata": {},
      "cell_type": "markdown",
      "source": "Exercise 4."
    },
    {
      "metadata": {},
      "cell_type": "markdown",
      "source": "```\nCreate a Temperature converter, Celsius to Fahrenheit:\n0 degrees Celsius is equal to 32 degrees Fahrenheit:\n0 °C = 32 °F\nThe temperature T in degrees Fahrenheit (°F) is equal to the temperature T in degrees Celsius (°C) times 9/5 plus 32:\nT(°F) = T(°C) × 9/5 + 32\n\nExample:\nConvert 20 degrees Celsius to degrees Fahrenheit:\nT(°F) = 20°C × 9/5 + 32 = 68 °F\n\nAdd:\nif Fahrenheit is more than 90, print statement \"a heat warning\", if Fahrenheit is less than 30, print statement \"a cold warning\"\n```"
    },
    {
      "metadata": {},
      "cell_type": "markdown",
      "source": "Exercise 5."
    },
    {
      "metadata": {},
      "cell_type": "markdown",
      "source": "In this exercise you will create a program that reads a letter of the alphabet from the user. If the user enters a, e, i, o or u then your program should display a message indicating that the entered letter is a vowel. If the user enters y then your program should display a message indicating that sometimes y is a vowel, and sometimes y is a consonant. Otherwise your program should display a message indicating that the\nletter is a consonant."
    },
    {
      "metadata": {},
      "cell_type": "markdown",
      "source": "Exercise 6."
    },
    {
      "metadata": {},
      "cell_type": "markdown",
      "source": "Write a Python program to construct the following pattern.\n```\n* \n* * \n* * * \n* * * * \n* * * * * \n* * * * \n* * * \n* * \n*\n```"
    },
    {
      "metadata": {},
      "cell_type": "markdown",
      "source": "Exercise 7."
    },
    {
      "metadata": {},
      "cell_type": "markdown",
      "source": "Write a Python program which iterates the integers from 1 to 100. For multiples of three print \"Fizz\" instead of the number and for the multiples of five print \"Buzz\". For numbers which are multiples of both three and five print \"FizzBuzz\"."
    },
    {
      "metadata": {},
      "cell_type": "markdown",
      "source": "Exercise 8."
    },
    {
      "metadata": {},
      "cell_type": "markdown",
      "source": "In this exercise you will create a program that displays a multiplication table that shows the products of all combinations of integers from 1 times 1 up to and including 10 times 10. Your multiplication table should include a row of labels across the top of it containing the numbers 1 through 10. It should also include labels down the left side consisting of the numbers 1 through 10. \nWhen completing this exercise you will probably find it helpful to be able to print out a value without moving down to the next line. This can be accomplished by added end=\"\" as the last parameter to your print statement. For example, print(\"A\") will display the letter A and then move down to the next line. The statementprint(\"A\", end=\"\")will display the letter A without moving down to the next line, causing the next print statement to display its result on the same line as the letter A."
    },
    {
      "metadata": {},
      "cell_type": "markdown",
      "source": "```\n        1    2    3    4    5    6    7    8    9   10 \n   1    1    2    3    4    5    6    7    8    9   10 \n   2    2    4    6    8   10   12   14   16   18   20 \n   3    3    6    9   12   15   18   21   24   27   30 \n   4    4    8   12   16   20   24   28   32   36   40 \n   5    5   10   15   20   25   30   35   40   45   50 \n   6    6   12   18   24   30   36   42   48   54   60 \n   7    7   14   21   28   35   42   49   56   63   70 \n   8    8   16   24   32   40   48   56   64   72   80 \n   9    9   18   27   36   45   54   63   72   81   90 \n  10   10   20   30   40   50   60   70   80   90  100 \n\n```"
    },
    {
      "metadata": {},
      "cell_type": "markdown",
      "source": "Exercise 9."
    },
    {
      "metadata": {},
      "cell_type": "markdown",
      "source": "A string is a palindrome if it is identical forward and backward. For example “anna”, “civic”, “level” and “hannah” are all examples of palindromic words. Write a program that reads a string from the user and uses a loop to determines whether or not it is a\npalindrome. Display the result, including a meaningful output message."
    },
    {
      "metadata": {},
      "cell_type": "markdown",
      "source": "Exercise 10."
    },
    {
      "metadata": {},
      "cell_type": "markdown",
      "source": "One of the first known examples of encryption was used by Julius Caesar. Caesar needed to provide written instructions to his generals, but he didn’t want his enemies to learn his plans if the message slipped into their hands. As result, he developed what later became known as the Caesar Cipher.\nThe idea behind this cipher is simple (and as a result, it provides no protection against modern code breaking techniques). Each letter in the original message is shifted by 3 places. As a result, A becomes D, B becomes E, C becomes F, D becomes G, etc. The last three letters in the alphabet are wrapped around to the beginning: X becomes A, Y becomes B and Z becomes C. Non-letter characters are not modified by the cipher.\nWrite a program that implements a Caesar cipher. Allow the user to supply the message and the shift amount, and then display the shifted message. Ensure that your program encodes both uppercase and lowercase letters. Your program should also support negative shift values so that it can be used both to encode messages and decode messages. Hints: ord(), chr()\n```\n https://learncryptography.com/classical-encryption/caesar-cipher\n```"
    },
    {
      "metadata": {
        "collapsed": true,
        "trusted": false
      },
      "cell_type": "code",
      "source": "",
      "execution_count": null,
      "outputs": []
    }
  ],
  "metadata": {
    "kernelspec": {
      "name": "python36",
      "display_name": "Python 3.6",
      "language": "python"
    },
    "language_info": {
      "mimetype": "text/x-python",
      "nbconvert_exporter": "python",
      "name": "python",
      "pygments_lexer": "ipython3",
      "version": "3.6.6",
      "file_extension": ".py",
      "codemirror_mode": {
        "version": 3,
        "name": "ipython"
      }
    }
  },
  "nbformat": 4,
  "nbformat_minor": 2
}