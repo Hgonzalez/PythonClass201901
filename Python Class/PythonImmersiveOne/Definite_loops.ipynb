{
  "cells": [
    {
      "metadata": {},
      "cell_type": "markdown",
      "source": "Definite Loops"
    },
    {
      "metadata": {},
      "cell_type": "markdown",
      "source": "The simplest kind of loop is called a definite loop. This is a loop that will execute a sequence of statements a definite number of times."
    },
    {
      "metadata": {},
      "cell_type": "markdown",
      "source": "A Python for loop has this general form:\n    \n    for <var> in <sequence>:\n        <body>"
    },
    {
      "metadata": {
        "trusted": false
      },
      "cell_type": "code",
      "source": "for number in [0,1,2,4,5,6,7]:\n    print(number)",
      "execution_count": 1,
      "outputs": [
        {
          "name": "stdout",
          "output_type": "stream",
          "text": "0\n1\n2\n4\n5\n6\n7\n"
        }
      ]
    },
    {
      "metadata": {
        "trusted": false
      },
      "cell_type": "code",
      "source": "new_list = list(range(10))\nnew_list",
      "execution_count": 2,
      "outputs": [
        {
          "data": {
            "text/plain": "[0, 1, 2, 3, 4, 5, 6, 7, 8, 9]"
          },
          "execution_count": 2,
          "metadata": {},
          "output_type": "execute_result"
        }
      ]
    },
    {
      "metadata": {
        "trusted": false
      },
      "cell_type": "code",
      "source": "for number in range(1,11):\n    print(number)",
      "execution_count": 3,
      "outputs": [
        {
          "name": "stdout",
          "output_type": "stream",
          "text": "1\n2\n3\n4\n5\n6\n7\n8\n9\n10\n"
        }
      ]
    },
    {
      "metadata": {
        "trusted": false
      },
      "cell_type": "code",
      "source": "shopping_list = [\"apples\",\"milk\",\"bananas\",\"bread\"]\nfor item in shopping_list:\n    print(item)",
      "execution_count": 6,
      "outputs": [
        {
          "name": "stdout",
          "output_type": "stream",
          "text": "apples\nmilk\nbananas\nbread\n"
        }
      ]
    },
    {
      "metadata": {
        "trusted": false
      },
      "cell_type": "code",
      "source": "for index in range(len(shopping_list)):\n    print(index)",
      "execution_count": 5,
      "outputs": [
        {
          "name": "stdout",
          "output_type": "stream",
          "text": "0\n1\n2\n3\n"
        }
      ]
    },
    {
      "metadata": {
        "trusted": false
      },
      "cell_type": "code",
      "source": "for item in shopping_list:\n    length = len(item)\n    print(item, \"is\", length, \"letters\")",
      "execution_count": 9,
      "outputs": [
        {
          "name": "stdout",
          "output_type": "stream",
          "text": "apples is 6 letters\nmilk is 4 letters\nbananas is 7 letters\nbread is 5 letters\n"
        }
      ]
    },
    {
      "metadata": {
        "collapsed": true,
        "trusted": false
      },
      "cell_type": "code",
      "source": "",
      "execution_count": null,
      "outputs": []
    }
  ],
  "metadata": {
    "kernelspec": {
      "name": "python36",
      "display_name": "Python 3.6",
      "language": "python"
    },
    "language_info": {
      "mimetype": "text/x-python",
      "nbconvert_exporter": "python",
      "name": "python",
      "pygments_lexer": "ipython3",
      "version": "3.6.6",
      "file_extension": ".py",
      "codemirror_mode": {
        "version": 3,
        "name": "ipython"
      }
    }
  },
  "nbformat": 4,
  "nbformat_minor": 2
}